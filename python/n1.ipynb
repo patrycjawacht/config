{
 "cells": [
  {
   "cell_type": "code",
   "execution_count": 1,
   "metadata": {},
   "outputs": [],
   "source": [
    "import google.oauth2.credentials as goc\n",
    "import google.cloud.bigquery as gbq\n",
    "import typing as tp\n",
    "\n",
    "import pandas as pd\n",
    "import numpy as np\n",
    "import yaml\n",
    "import json\n",
    "\n",
    "import sys\n",
    "import os\n",
    "\n",
    "python_path = os.path.join(\n",
    "    os.path.dirname(os.path.abspath('__file__')),\n",
    "    '../python'\n",
    ")\n",
    "sys.path.append(python_path)\n",
    "\n",
    "import common as cm"
   ]
  },
  {
   "cell_type": "code",
   "execution_count": 2,
   "metadata": {},
   "outputs": [
    {
     "name": "stdout",
     "output_type": "stream",
     "text": [
      "[{'country': 'c1', 'table_suffix': 'xxxxxxx', 'suffixes': ['xxxxxx1', 'xxxxxx2', 'xxxxxx3'], 'month': '2023-01', 'cutoff': 40, 'if_new': 'True', 'version': '', 'training_date': ''}, {'country': 'c2', 'table_suffix': 'xxxxxxx', 'suffixes': ['xxxxxx1', 'xxxxxx2', 'xxxxxx3'], 'month': '2023-01', 'cutoff': 50, 'if_new': 'True', 'version': '', 'training_date': ''}]\n",
      "File not found, will create a new one.\n"
     ]
    }
   ],
   "source": [
    "bin_count=10\n",
    "col_labels = [\n",
    "    'no.',\n",
    "    'Bin min',\n",
    "    'Bin max',\n",
    "    '# Customers',\n",
    "    '% Customers',\n",
    "    '# Goal',\n",
    "    '% Goal'\n",
    "]\n",
    "\n",
    "db_pred = 'output_dataset'\n",
    "ds_tb_prefix = f'{db_pred}.x'\n",
    "\n",
    "# bq_client = cm.get_bq_client(\n",
    "#     bq_location='europe-west2'\n",
    "# )\n",
    "\n",
    "with open(f'{python_path}/config.yaml', 'r') as rf:\n",
    "    prediction_runs = yaml.safe_load(rf)\n",
    "    \n",
    "prediction_runs_dict_list = prediction_runs['run_list']\n",
    "print(prediction_runs_dict_list)\n",
    "    \n",
    "autofull_template_ls = cm.open_autodoc_params(\n",
    "    config_file = prediction_runs\n",
    ")"
   ]
  },
  {
   "cell_type": "code",
   "execution_count": 4,
   "metadata": {},
   "outputs": [],
   "source": [
    "# hidden"
   ]
  },
  {
   "cell_type": "code",
   "execution_count": null,
   "metadata": {},
   "outputs": [],
   "source": [
    "for pred_run in prediction_runs_dict_list:\n",
    "    # most of the code is hidden\n",
    "    cust_flag = ''\n",
    "\n",
    "    if 'xxx' in pred_run['country'] or 'yyy' in pred_run['country']:\n",
    "\n",
    "        query_cond = \\\n",
    "        f\"\"\"\n",
    "        AND \n",
    "            custr_data IN (\n",
    "            SELECT\n",
    "                distinct xxxx\n",
    "            FROM\n",
    "                {ds}_{pred_run['table_suffix']}\n",
    "            WHERE\n",
    "                {\"xxx = 1\" if pred_run['country'].find('usa')==0 else \"yyy = ''\"}\n",
    "        )\n",
    "        \"\"\"\n",
    "    else:\n",
    "        query_cond=''\n",
    "\n",
    "    query = \\\n",
    "    f\"\"\"\n",
    "        \"\"\"\n",
    "    \n",
    "    df = bq_client.query(query).to_dataframe()\n",
    "    contents = [{'cols': list(df.iloc[i,:])} for i in range(len(df))]\n",
    "    \n",
    "    display(df)\n",
    "    \n",
    "    AUTOFULL_DICT_N1 = {\n",
    "        'contents': contents,\n",
    "        'col_vals': col_vals\n",
    "    }\n",
    "    \n",
    "    autodoc_template_ls = cm.update_autodoc_params(\n",
    "        autodoc_template_ls = autofull_template_ls,\n",
    "        lob = pred_run['country'],\n",
    "        update_dict = AUTOFULL_DICT_N1\n",
    "    )\n",
    "    \n",
    "    dest_ds_tb = f'output.{x}'\n",
    "    \n",
    "#     cm.save_to_bq()\n",
    "    "
   ]
  },
  {
   "cell_type": "code",
   "execution_count": null,
   "metadata": {},
   "outputs": [],
   "source": [
    "# n1,n2,n3,n4 notebooks/scripts are hidden"
   ]
  }
 ],
 "metadata": {
  "kernelspec": {
   "display_name": "2023_kernel",
   "language": "python",
   "name": "2023_kernel"
  },
  "kubeflow_notebook": {
   "autosnapshot": false,
   "docker_image": "eu.gcr.io/hsbc-7337771-ilfcrm-prod/cmlp-official-notebook-py37@sha256:93e631cf15f81fc51e9809bfe35c9cfc169972ba4b25419c6dbbf263e7f19b95",
   "experiment": {
    "id": "",
    "name": ""
   },
   "experiment_name": "",
   "katib_metadata": {
    "algorithm": {
     "algorithmName": "grid"
    },
    "maxFailedTrialCount": 3,
    "maxTrialCount": 12,
    "objective": {
     "objectiveMetricName": "",
     "type": "minimize"
    },
    "parallelTrialCount": 3,
    "parameters": []
   },
   "katib_run": false,
   "pipeline_description": "",
   "pipeline_name": "",
   "snapshot_volumes": false,
   "steps_defaults": [
    "label:customer-onboarding:true"
   ],
   "volume_access_mode": "rwm",
   "volumes": []
  },
  "language_info": {
   "codemirror_mode": {
    "name": "ipython",
    "version": 3
   },
   "file_extension": ".py",
   "mimetype": "text/x-python",
   "name": "python",
   "nbconvert_exporter": "python",
   "pygments_lexer": "ipython3",
   "version": "3.8.8"
  }
 },
 "nbformat": 4,
 "nbformat_minor": 4
}
